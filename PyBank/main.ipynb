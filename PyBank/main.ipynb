{
 "cells": [
  {
   "cell_type": "code",
   "execution_count": 40,
   "metadata": {},
   "outputs": [],
   "source": [
    "import csv\n",
    "from pathlib import Path"
   ]
  },
  {
   "cell_type": "code",
   "execution_count": 41,
   "metadata": {},
   "outputs": [],
   "source": [
    "path = Path('budget_data.csv')"
   ]
  },
  {
   "cell_type": "code",
   "execution_count": 42,
   "metadata": {},
   "outputs": [],
   "source": [
    "# initialize variables\n",
    "total_months = 0\n",
    "total_pnl = 0\n",
    "\n",
    "# initialize variables for max profit/loss\n",
    "max_profit = 0\n",
    "max_profit_month = ''\n",
    "max_loss = 0 \n",
    "max_loss_month = ''"
   ]
  },
  {
   "cell_type": "code",
   "execution_count": 43,
   "metadata": {},
   "outputs": [],
   "source": [
    "with open(path) as file:\n",
    "    reader = csv.reader(file, delimiter=',')\n",
    "    header = next(reader)\n",
    "    \n",
    "    for row in reader:\n",
    "        pnl = int(row[1])\n",
    "        \n",
    "        # increment the total number of months\n",
    "        total_months += 1\n",
    "        # add the pnl for the current month to our counter\n",
    "        total_pnl += pnl\n",
    "        \n",
    "        # check to see if we need to update max profit\n",
    "        if pnl > max_profit:\n",
    "            max_profit = pnl\n",
    "            max_profit_month = row[0]\n",
    "            \n",
    "        # check to see if we need to update max loss\n",
    "        if pnl < max_loss:\n",
    "            max_loss = pnl\n",
    "            max_loss_month = row[0]\n"
   ]
  },
  {
   "cell_type": "code",
   "execution_count": 44,
   "metadata": {},
   "outputs": [],
   "source": [
    "output = \\\n",
    "f'''Financial Analysis\n",
    "----------------------------\n",
    "Total Months: {total_months}\n",
    "Total: ${total_pnl}\n",
    "Average  Change: ${total_pnl * 1.0 / total_months:.2f}\n",
    "Greatest Increase in Profits: {max_profit_month} (${max_profit})\n",
    "Greatest Decrease in Profits: {max_loss_month} (${max_loss})'''"
   ]
  },
  {
   "cell_type": "code",
   "execution_count": 45,
   "metadata": {},
   "outputs": [
    {
     "name": "stdout",
     "output_type": "stream",
     "text": [
      "Financial Analysis\n",
      "----------------------------\n",
      "Total Months: 86\n",
      "Total: $38382578\n",
      "Average  Change: $446309.05\n",
      "Greatest Increase in Profits: Feb-2012 ($1170593)\n",
      "Greatest Decrease in Profits: Sep-2013 ($-1196225)\n"
     ]
    }
   ],
   "source": [
    "print(output)"
   ]
  },
  {
   "cell_type": "code",
   "execution_count": 46,
   "metadata": {},
   "outputs": [],
   "source": [
    "# Set the output file path\n",
    "output_path = Path('output.txt')"
   ]
  },
  {
   "cell_type": "code",
   "execution_count": 47,
   "metadata": {},
   "outputs": [],
   "source": [
    "with open(output_path, 'w') as file:\n",
    "    file.write(output)"
   ]
  }
 ],
 "metadata": {
  "kernelspec": {
   "display_name": "Python 3",
   "language": "python",
   "name": "python3"
  },
  "language_info": {
   "codemirror_mode": {
    "name": "ipython",
    "version": 3
   },
   "file_extension": ".py",
   "mimetype": "text/x-python",
   "name": "python",
   "nbconvert_exporter": "python",
   "pygments_lexer": "ipython3",
   "version": "3.8.5"
  }
 },
 "nbformat": 4,
 "nbformat_minor": 4
}
